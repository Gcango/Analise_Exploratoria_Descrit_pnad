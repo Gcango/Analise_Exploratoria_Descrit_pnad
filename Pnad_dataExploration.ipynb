{
  "nbformat": 4,
  "nbformat_minor": 0,
  "metadata": {
    "colab": {
      "provenance": [],
      "authorship_tag": "ABX9TyO2LHHERxDmLJPx4HqYSQpx",
      "include_colab_link": true
    },
    "kernelspec": {
      "name": "python3",
      "display_name": "Python 3"
    },
    "language_info": {
      "name": "python"
    }
  },
  "cells": [
    {
      "cell_type": "markdown",
      "metadata": {
        "id": "view-in-github",
        "colab_type": "text"
      },
      "source": [
        "<a href=\"https://colab.research.google.com/github/Gcango/Analise_Exploratoria_Descrit_pnad/blob/main/Pnad_dataExploration.ipynb\" target=\"_parent\"><img src=\"https://colab.research.google.com/assets/colab-badge.svg\" alt=\"Open In Colab\"/></a>"
      ]
    },
    {
      "cell_type": "markdown",
      "source": [
        "Foi analisados,explorados e descritos os dados da BD da Pesquisa Nacional por Amostra de Domicílios afecto ao Brasil."
      ],
      "metadata": {
        "id": "i1RIcT7i6Xbw"
      }
    },
    {
      "cell_type": "code",
      "execution_count": 1,
      "metadata": {
        "id": "2thhkZ4v5HWp"
      },
      "outputs": [],
      "source": [
        "import pandas as pd\n",
        "import numpy as np\n",
        "import matplotlib.pyplot as plt\n",
        "import seaborn as sns"
      ]
    },
    {
      "cell_type": "code",
      "source": [
        "dados = pd.read_csv(\"https://raw.githubusercontent.com/neylsoncrepalde/introducao_ao_r/master/dados/pes_2012.csv\")"
      ],
      "metadata": {
        "id": "e6L1LY5q6Nrk"
      },
      "execution_count": 2,
      "outputs": []
    },
    {
      "cell_type": "code",
      "source": [
        "dados.sample(10)"
      ],
      "metadata": {
        "colab": {
          "base_uri": "https://localhost:8080/",
          "height": 363
        },
        "id": "_-M9mtxM6NuK",
        "outputId": "da802a8e-b166-4d7c-d335-1eb5bcfe1a55"
      },
      "execution_count": 6,
      "outputs": [
        {
          "output_type": "execute_result",
          "data": {
            "text/plain": [
              "        V0101                  UF      V0302  V8005   V0404  \\\n",
              "202078   2012      Espírito Santo  Masculino     25   Parda   \n",
              "43981    2012                Pará  Masculino     18   Parda   \n",
              "329233   2012  Mato Grosso do Sul   Feminino      4  Branca   \n",
              "356774   2012    Distrito Federal   Feminino     47   Preta   \n",
              "302677   2012   Rio Grande do Sul  Masculino     63  Branca   \n",
              "319141   2012   Rio Grande do Sul   Feminino     56  Branca   \n",
              "120388   2012          Pernambuco  Masculino     82  Branca   \n",
              "116167   2012          Pernambuco  Masculino      3  Branca   \n",
              "205511   2012      Rio de Janeiro  Masculino     15   Parda   \n",
              "45544    2012                Pará   Feminino      0   Parda   \n",
              "\n",
              "                                 V4803 V4718 V4720  V4729  \n",
              "202078                          3 anos   NaN     0    522  \n",
              "43981                           6 anos   100   100    494  \n",
              "329233  Sem instrução e menos de 1 ano   NaN   NaN    418  \n",
              "356774                          6 anos   720   720    290  \n",
              "302677                          3 anos   NaN  2132    663  \n",
              "319141                          9 anos    50    50    228  \n",
              "120388                          3 anos   NaN   622    259  \n",
              "116167  Sem instrução e menos de 1 ano   NaN   NaN    259  \n",
              "205511                          2 anos   NaN     0    609  \n",
              "45544   Sem instrução e menos de 1 ano   NaN   NaN    494  "
            ],
            "text/html": [
              "\n",
              "  <div id=\"df-25194cb9-7ceb-48b6-bca3-48c92d7c3eb6\" class=\"colab-df-container\">\n",
              "    <div>\n",
              "<style scoped>\n",
              "    .dataframe tbody tr th:only-of-type {\n",
              "        vertical-align: middle;\n",
              "    }\n",
              "\n",
              "    .dataframe tbody tr th {\n",
              "        vertical-align: top;\n",
              "    }\n",
              "\n",
              "    .dataframe thead th {\n",
              "        text-align: right;\n",
              "    }\n",
              "</style>\n",
              "<table border=\"1\" class=\"dataframe\">\n",
              "  <thead>\n",
              "    <tr style=\"text-align: right;\">\n",
              "      <th></th>\n",
              "      <th>V0101</th>\n",
              "      <th>UF</th>\n",
              "      <th>V0302</th>\n",
              "      <th>V8005</th>\n",
              "      <th>V0404</th>\n",
              "      <th>V4803</th>\n",
              "      <th>V4718</th>\n",
              "      <th>V4720</th>\n",
              "      <th>V4729</th>\n",
              "    </tr>\n",
              "  </thead>\n",
              "  <tbody>\n",
              "    <tr>\n",
              "      <th>202078</th>\n",
              "      <td>2012</td>\n",
              "      <td>Espírito Santo</td>\n",
              "      <td>Masculino</td>\n",
              "      <td>25</td>\n",
              "      <td>Parda</td>\n",
              "      <td>3 anos</td>\n",
              "      <td>NaN</td>\n",
              "      <td>0</td>\n",
              "      <td>522</td>\n",
              "    </tr>\n",
              "    <tr>\n",
              "      <th>43981</th>\n",
              "      <td>2012</td>\n",
              "      <td>Pará</td>\n",
              "      <td>Masculino</td>\n",
              "      <td>18</td>\n",
              "      <td>Parda</td>\n",
              "      <td>6 anos</td>\n",
              "      <td>100</td>\n",
              "      <td>100</td>\n",
              "      <td>494</td>\n",
              "    </tr>\n",
              "    <tr>\n",
              "      <th>329233</th>\n",
              "      <td>2012</td>\n",
              "      <td>Mato Grosso do Sul</td>\n",
              "      <td>Feminino</td>\n",
              "      <td>4</td>\n",
              "      <td>Branca</td>\n",
              "      <td>Sem instrução e menos de 1 ano</td>\n",
              "      <td>NaN</td>\n",
              "      <td>NaN</td>\n",
              "      <td>418</td>\n",
              "    </tr>\n",
              "    <tr>\n",
              "      <th>356774</th>\n",
              "      <td>2012</td>\n",
              "      <td>Distrito Federal</td>\n",
              "      <td>Feminino</td>\n",
              "      <td>47</td>\n",
              "      <td>Preta</td>\n",
              "      <td>6 anos</td>\n",
              "      <td>720</td>\n",
              "      <td>720</td>\n",
              "      <td>290</td>\n",
              "    </tr>\n",
              "    <tr>\n",
              "      <th>302677</th>\n",
              "      <td>2012</td>\n",
              "      <td>Rio Grande do Sul</td>\n",
              "      <td>Masculino</td>\n",
              "      <td>63</td>\n",
              "      <td>Branca</td>\n",
              "      <td>3 anos</td>\n",
              "      <td>NaN</td>\n",
              "      <td>2132</td>\n",
              "      <td>663</td>\n",
              "    </tr>\n",
              "    <tr>\n",
              "      <th>319141</th>\n",
              "      <td>2012</td>\n",
              "      <td>Rio Grande do Sul</td>\n",
              "      <td>Feminino</td>\n",
              "      <td>56</td>\n",
              "      <td>Branca</td>\n",
              "      <td>9 anos</td>\n",
              "      <td>50</td>\n",
              "      <td>50</td>\n",
              "      <td>228</td>\n",
              "    </tr>\n",
              "    <tr>\n",
              "      <th>120388</th>\n",
              "      <td>2012</td>\n",
              "      <td>Pernambuco</td>\n",
              "      <td>Masculino</td>\n",
              "      <td>82</td>\n",
              "      <td>Branca</td>\n",
              "      <td>3 anos</td>\n",
              "      <td>NaN</td>\n",
              "      <td>622</td>\n",
              "      <td>259</td>\n",
              "    </tr>\n",
              "    <tr>\n",
              "      <th>116167</th>\n",
              "      <td>2012</td>\n",
              "      <td>Pernambuco</td>\n",
              "      <td>Masculino</td>\n",
              "      <td>3</td>\n",
              "      <td>Branca</td>\n",
              "      <td>Sem instrução e menos de 1 ano</td>\n",
              "      <td>NaN</td>\n",
              "      <td>NaN</td>\n",
              "      <td>259</td>\n",
              "    </tr>\n",
              "    <tr>\n",
              "      <th>205511</th>\n",
              "      <td>2012</td>\n",
              "      <td>Rio de Janeiro</td>\n",
              "      <td>Masculino</td>\n",
              "      <td>15</td>\n",
              "      <td>Parda</td>\n",
              "      <td>2 anos</td>\n",
              "      <td>NaN</td>\n",
              "      <td>0</td>\n",
              "      <td>609</td>\n",
              "    </tr>\n",
              "    <tr>\n",
              "      <th>45544</th>\n",
              "      <td>2012</td>\n",
              "      <td>Pará</td>\n",
              "      <td>Feminino</td>\n",
              "      <td>0</td>\n",
              "      <td>Parda</td>\n",
              "      <td>Sem instrução e menos de 1 ano</td>\n",
              "      <td>NaN</td>\n",
              "      <td>NaN</td>\n",
              "      <td>494</td>\n",
              "    </tr>\n",
              "  </tbody>\n",
              "</table>\n",
              "</div>\n",
              "    <div class=\"colab-df-buttons\">\n",
              "\n",
              "  <div class=\"colab-df-container\">\n",
              "    <button class=\"colab-df-convert\" onclick=\"convertToInteractive('df-25194cb9-7ceb-48b6-bca3-48c92d7c3eb6')\"\n",
              "            title=\"Convert this dataframe to an interactive table.\"\n",
              "            style=\"display:none;\">\n",
              "\n",
              "  <svg xmlns=\"http://www.w3.org/2000/svg\" height=\"24px\" viewBox=\"0 -960 960 960\">\n",
              "    <path d=\"M120-120v-720h720v720H120Zm60-500h600v-160H180v160Zm220 220h160v-160H400v160Zm0 220h160v-160H400v160ZM180-400h160v-160H180v160Zm440 0h160v-160H620v160ZM180-180h160v-160H180v160Zm440 0h160v-160H620v160Z\"/>\n",
              "  </svg>\n",
              "    </button>\n",
              "\n",
              "  <style>\n",
              "    .colab-df-container {\n",
              "      display:flex;\n",
              "      gap: 12px;\n",
              "    }\n",
              "\n",
              "    .colab-df-convert {\n",
              "      background-color: #E8F0FE;\n",
              "      border: none;\n",
              "      border-radius: 50%;\n",
              "      cursor: pointer;\n",
              "      display: none;\n",
              "      fill: #1967D2;\n",
              "      height: 32px;\n",
              "      padding: 0 0 0 0;\n",
              "      width: 32px;\n",
              "    }\n",
              "\n",
              "    .colab-df-convert:hover {\n",
              "      background-color: #E2EBFA;\n",
              "      box-shadow: 0px 1px 2px rgba(60, 64, 67, 0.3), 0px 1px 3px 1px rgba(60, 64, 67, 0.15);\n",
              "      fill: #174EA6;\n",
              "    }\n",
              "\n",
              "    .colab-df-buttons div {\n",
              "      margin-bottom: 4px;\n",
              "    }\n",
              "\n",
              "    [theme=dark] .colab-df-convert {\n",
              "      background-color: #3B4455;\n",
              "      fill: #D2E3FC;\n",
              "    }\n",
              "\n",
              "    [theme=dark] .colab-df-convert:hover {\n",
              "      background-color: #434B5C;\n",
              "      box-shadow: 0px 1px 3px 1px rgba(0, 0, 0, 0.15);\n",
              "      filter: drop-shadow(0px 1px 2px rgba(0, 0, 0, 0.3));\n",
              "      fill: #FFFFFF;\n",
              "    }\n",
              "  </style>\n",
              "\n",
              "    <script>\n",
              "      const buttonEl =\n",
              "        document.querySelector('#df-25194cb9-7ceb-48b6-bca3-48c92d7c3eb6 button.colab-df-convert');\n",
              "      buttonEl.style.display =\n",
              "        google.colab.kernel.accessAllowed ? 'block' : 'none';\n",
              "\n",
              "      async function convertToInteractive(key) {\n",
              "        const element = document.querySelector('#df-25194cb9-7ceb-48b6-bca3-48c92d7c3eb6');\n",
              "        const dataTable =\n",
              "          await google.colab.kernel.invokeFunction('convertToInteractive',\n",
              "                                                    [key], {});\n",
              "        if (!dataTable) return;\n",
              "\n",
              "        const docLinkHtml = 'Like what you see? Visit the ' +\n",
              "          '<a target=\"_blank\" href=https://colab.research.google.com/notebooks/data_table.ipynb>data table notebook</a>'\n",
              "          + ' to learn more about interactive tables.';\n",
              "        element.innerHTML = '';\n",
              "        dataTable['output_type'] = 'display_data';\n",
              "        await google.colab.output.renderOutput(dataTable, element);\n",
              "        const docLink = document.createElement('div');\n",
              "        docLink.innerHTML = docLinkHtml;\n",
              "        element.appendChild(docLink);\n",
              "      }\n",
              "    </script>\n",
              "  </div>\n",
              "\n",
              "\n",
              "<div id=\"df-e5f99df3-f51c-42d4-9d76-633aed7d19c9\">\n",
              "  <button class=\"colab-df-quickchart\" onclick=\"quickchart('df-e5f99df3-f51c-42d4-9d76-633aed7d19c9')\"\n",
              "            title=\"Suggest charts\"\n",
              "            style=\"display:none;\">\n",
              "\n",
              "<svg xmlns=\"http://www.w3.org/2000/svg\" height=\"24px\"viewBox=\"0 0 24 24\"\n",
              "     width=\"24px\">\n",
              "    <g>\n",
              "        <path d=\"M19 3H5c-1.1 0-2 .9-2 2v14c0 1.1.9 2 2 2h14c1.1 0 2-.9 2-2V5c0-1.1-.9-2-2-2zM9 17H7v-7h2v7zm4 0h-2V7h2v10zm4 0h-2v-4h2v4z\"/>\n",
              "    </g>\n",
              "</svg>\n",
              "  </button>\n",
              "\n",
              "<style>\n",
              "  .colab-df-quickchart {\n",
              "      --bg-color: #E8F0FE;\n",
              "      --fill-color: #1967D2;\n",
              "      --hover-bg-color: #E2EBFA;\n",
              "      --hover-fill-color: #174EA6;\n",
              "      --disabled-fill-color: #AAA;\n",
              "      --disabled-bg-color: #DDD;\n",
              "  }\n",
              "\n",
              "  [theme=dark] .colab-df-quickchart {\n",
              "      --bg-color: #3B4455;\n",
              "      --fill-color: #D2E3FC;\n",
              "      --hover-bg-color: #434B5C;\n",
              "      --hover-fill-color: #FFFFFF;\n",
              "      --disabled-bg-color: #3B4455;\n",
              "      --disabled-fill-color: #666;\n",
              "  }\n",
              "\n",
              "  .colab-df-quickchart {\n",
              "    background-color: var(--bg-color);\n",
              "    border: none;\n",
              "    border-radius: 50%;\n",
              "    cursor: pointer;\n",
              "    display: none;\n",
              "    fill: var(--fill-color);\n",
              "    height: 32px;\n",
              "    padding: 0;\n",
              "    width: 32px;\n",
              "  }\n",
              "\n",
              "  .colab-df-quickchart:hover {\n",
              "    background-color: var(--hover-bg-color);\n",
              "    box-shadow: 0 1px 2px rgba(60, 64, 67, 0.3), 0 1px 3px 1px rgba(60, 64, 67, 0.15);\n",
              "    fill: var(--button-hover-fill-color);\n",
              "  }\n",
              "\n",
              "  .colab-df-quickchart-complete:disabled,\n",
              "  .colab-df-quickchart-complete:disabled:hover {\n",
              "    background-color: var(--disabled-bg-color);\n",
              "    fill: var(--disabled-fill-color);\n",
              "    box-shadow: none;\n",
              "  }\n",
              "\n",
              "  .colab-df-spinner {\n",
              "    border: 2px solid var(--fill-color);\n",
              "    border-color: transparent;\n",
              "    border-bottom-color: var(--fill-color);\n",
              "    animation:\n",
              "      spin 1s steps(1) infinite;\n",
              "  }\n",
              "\n",
              "  @keyframes spin {\n",
              "    0% {\n",
              "      border-color: transparent;\n",
              "      border-bottom-color: var(--fill-color);\n",
              "      border-left-color: var(--fill-color);\n",
              "    }\n",
              "    20% {\n",
              "      border-color: transparent;\n",
              "      border-left-color: var(--fill-color);\n",
              "      border-top-color: var(--fill-color);\n",
              "    }\n",
              "    30% {\n",
              "      border-color: transparent;\n",
              "      border-left-color: var(--fill-color);\n",
              "      border-top-color: var(--fill-color);\n",
              "      border-right-color: var(--fill-color);\n",
              "    }\n",
              "    40% {\n",
              "      border-color: transparent;\n",
              "      border-right-color: var(--fill-color);\n",
              "      border-top-color: var(--fill-color);\n",
              "    }\n",
              "    60% {\n",
              "      border-color: transparent;\n",
              "      border-right-color: var(--fill-color);\n",
              "    }\n",
              "    80% {\n",
              "      border-color: transparent;\n",
              "      border-right-color: var(--fill-color);\n",
              "      border-bottom-color: var(--fill-color);\n",
              "    }\n",
              "    90% {\n",
              "      border-color: transparent;\n",
              "      border-bottom-color: var(--fill-color);\n",
              "    }\n",
              "  }\n",
              "</style>\n",
              "\n",
              "  <script>\n",
              "    async function quickchart(key) {\n",
              "      const quickchartButtonEl =\n",
              "        document.querySelector('#' + key + ' button');\n",
              "      quickchartButtonEl.disabled = true;  // To prevent multiple clicks.\n",
              "      quickchartButtonEl.classList.add('colab-df-spinner');\n",
              "      try {\n",
              "        const charts = await google.colab.kernel.invokeFunction(\n",
              "            'suggestCharts', [key], {});\n",
              "      } catch (error) {\n",
              "        console.error('Error during call to suggestCharts:', error);\n",
              "      }\n",
              "      quickchartButtonEl.classList.remove('colab-df-spinner');\n",
              "      quickchartButtonEl.classList.add('colab-df-quickchart-complete');\n",
              "    }\n",
              "    (() => {\n",
              "      let quickchartButtonEl =\n",
              "        document.querySelector('#df-e5f99df3-f51c-42d4-9d76-633aed7d19c9 button');\n",
              "      quickchartButtonEl.style.display =\n",
              "        google.colab.kernel.accessAllowed ? 'block' : 'none';\n",
              "    })();\n",
              "  </script>\n",
              "</div>\n",
              "    </div>\n",
              "  </div>\n"
            ],
            "application/vnd.google.colaboratory.intrinsic+json": {
              "type": "dataframe",
              "summary": "{\n  \"name\": \"dados\",\n  \"rows\": 10,\n  \"fields\": [\n    {\n      \"column\": \"V0101\",\n      \"properties\": {\n        \"dtype\": \"number\",\n        \"std\": 0,\n        \"min\": 2012,\n        \"max\": 2012,\n        \"num_unique_values\": 1,\n        \"samples\": [\n          2012\n        ],\n        \"semantic_type\": \"\",\n        \"description\": \"\"\n      }\n    },\n    {\n      \"column\": \"UF\",\n      \"properties\": {\n        \"dtype\": \"string\",\n        \"num_unique_values\": 7,\n        \"samples\": [\n          \"Esp\\u00edrito Santo\"\n        ],\n        \"semantic_type\": \"\",\n        \"description\": \"\"\n      }\n    },\n    {\n      \"column\": \"V0302\",\n      \"properties\": {\n        \"dtype\": \"category\",\n        \"num_unique_values\": 2,\n        \"samples\": [\n          \"Feminino\"\n        ],\n        \"semantic_type\": \"\",\n        \"description\": \"\"\n      }\n    },\n    {\n      \"column\": \"V8005\",\n      \"properties\": {\n        \"dtype\": \"number\",\n        \"std\": 28,\n        \"min\": 0,\n        \"max\": 82,\n        \"num_unique_values\": 10,\n        \"samples\": [\n          15\n        ],\n        \"semantic_type\": \"\",\n        \"description\": \"\"\n      }\n    },\n    {\n      \"column\": \"V0404\",\n      \"properties\": {\n        \"dtype\": \"category\",\n        \"num_unique_values\": 3,\n        \"samples\": [\n          \"Parda\"\n        ],\n        \"semantic_type\": \"\",\n        \"description\": \"\"\n      }\n    },\n    {\n      \"column\": \"V4803\",\n      \"properties\": {\n        \"dtype\": \"string\",\n        \"num_unique_values\": 5,\n        \"samples\": [\n          \"6 anos\"\n        ],\n        \"semantic_type\": \"\",\n        \"description\": \"\"\n      }\n    },\n    {\n      \"column\": \"V4718\",\n      \"properties\": {\n        \"dtype\": \"category\",\n        \"num_unique_values\": 3,\n        \"samples\": [\n          \"100\"\n        ],\n        \"semantic_type\": \"\",\n        \"description\": \"\"\n      }\n    },\n    {\n      \"column\": \"V4720\",\n      \"properties\": {\n        \"dtype\": \"string\",\n        \"num_unique_values\": 6,\n        \"samples\": [\n          \"0\"\n        ],\n        \"semantic_type\": \"\",\n        \"description\": \"\"\n      }\n    },\n    {\n      \"column\": \"V4729\",\n      \"properties\": {\n        \"dtype\": \"number\",\n        \"std\": 156,\n        \"min\": 228,\n        \"max\": 663,\n        \"num_unique_values\": 8,\n        \"samples\": [\n          494\n        ],\n        \"semantic_type\": \"\",\n        \"description\": \"\"\n      }\n    }\n  ]\n}"
            }
          },
          "metadata": {},
          "execution_count": 6
        }
      ]
    },
    {
      "cell_type": "markdown",
      "source": [
        "##Perguntas inicias: Estados cadastrados, Generos Femnino e Masculinos, Total de casos."
      ],
      "metadata": {
        "id": "1ejZTQQn9bez"
      }
    },
    {
      "cell_type": "code",
      "source": [
        "print(f\"Este dataset possui {dados.shape[0]} linhas e {dados.shape[1]} colunas \")"
      ],
      "metadata": {
        "colab": {
          "base_uri": "https://localhost:8080/"
        },
        "id": "JtcmOnjG6NzU",
        "outputId": "a999c98c-b246-4950-fcff-ac240cb50008"
      },
      "execution_count": 10,
      "outputs": [
        {
          "output_type": "stream",
          "name": "stdout",
          "text": [
            "Este dataset possui 362451 linhas e 9 colunas \n"
          ]
        }
      ]
    },
    {
      "cell_type": "code",
      "source": [
        "dados.columns"
      ],
      "metadata": {
        "colab": {
          "base_uri": "https://localhost:8080/"
        },
        "id": "wMGPPgJy6N3H",
        "outputId": "4d723f1f-d55f-4a36-a829-308ff9e0f258"
      },
      "execution_count": 8,
      "outputs": [
        {
          "output_type": "execute_result",
          "data": {
            "text/plain": [
              "Index(['V0101', 'UF', 'V0302', 'V8005', 'V0404', 'V4803', 'V4718', 'V4720',\n",
              "       'V4729'],\n",
              "      dtype='object')"
            ]
          },
          "metadata": {},
          "execution_count": 8
        }
      ]
    },
    {
      "cell_type": "code",
      "source": [
        "estados = dados['UF'].unique()\n",
        "print(f\"Os estados cadastrados nesta BD são: \\n{estados}\")"
      ],
      "metadata": {
        "colab": {
          "base_uri": "https://localhost:8080/"
        },
        "id": "Kb7uO6Jw6N6A",
        "outputId": "8996ab55-ccb6-4712-e745-c53f50ef85c1"
      },
      "execution_count": 13,
      "outputs": [
        {
          "output_type": "stream",
          "name": "stdout",
          "text": [
            "Os estados cadastrados nesta BD são: \n",
            "['Rondônia' 'Acre' 'Amazonas' 'Roraima' 'Pará' 'Amapá' 'Tocantins'\n",
            " 'Maranhão' 'Piauí' 'Ceará' 'Rio Grande do Norte' 'Paraíba' 'Pernambuco'\n",
            " 'Alagoas' 'Sergipe' 'Bahia' 'Minas Gerais' 'Espírito Santo'\n",
            " 'Rio de Janeiro' 'São Paulo' 'Paraná' 'Santa Catarina'\n",
            " 'Rio Grande do Sul' 'Mato Grosso do Sul' 'Mato Grosso' 'Goiás'\n",
            " 'Distrito Federal']\n"
          ]
        }
      ]
    },
    {
      "cell_type": "code",
      "source": [
        "genero = dados['V0302'].value_counts()\n",
        "print(f\"Os generos neste dataset estão assim dividido: \\nFeminino -> {genero[0]} \\nMasculino -> {genero[1]} \")"
      ],
      "metadata": {
        "colab": {
          "base_uri": "https://localhost:8080/"
        },
        "id": "qiNcY5Y66N7-",
        "outputId": "afc12111-c6f3-4c97-b3d7-00d862f4df4f"
      },
      "execution_count": 20,
      "outputs": [
        {
          "output_type": "stream",
          "name": "stdout",
          "text": [
            "Os generos neste dataset estão assim dividido: \n",
            "Feminino -> 186054 \n",
            "Masculino -> 176397 \n"
          ]
        }
      ]
    },
    {
      "cell_type": "code",
      "source": [
        "#convertendo o Genero em percentagm"
      ],
      "metadata": {
        "id": "p4j5XiWg8G1k"
      },
      "execution_count": 20,
      "outputs": []
    },
    {
      "cell_type": "code",
      "source": [
        "perct = dados['V0302'].value_counts()/dados.shape[0]"
      ],
      "metadata": {
        "id": "gLNtQAy28G4x"
      },
      "execution_count": 24,
      "outputs": []
    },
    {
      "cell_type": "code",
      "source": [
        "print(f\"Os generos neste dataset estão assim dividido: \\nFeminino -> {perct[0]} \\nMasculino -> {perct[1]} \")"
      ],
      "metadata": {
        "colab": {
          "base_uri": "https://localhost:8080/"
        },
        "id": "OKuIBYxm8G84",
        "outputId": "a1aad0b9-be42-47f5-c2bf-da94bdc475d1"
      },
      "execution_count": 25,
      "outputs": [
        {
          "output_type": "stream",
          "name": "stdout",
          "text": [
            "Os generos neste dataset estão assim dividido: \n",
            "Feminino -> 0.5133218007399621 \n",
            "Masculino -> 0.4866781992600379 \n"
          ]
        }
      ]
    },
    {
      "cell_type": "code",
      "source": [
        "#Distribuição por raça presente na BD"
      ],
      "metadata": {
        "id": "6vsqD8QG8HCD"
      },
      "execution_count": null,
      "outputs": []
    },
    {
      "cell_type": "code",
      "source": [
        "dados['V0404'].value_counts()"
      ],
      "metadata": {
        "colab": {
          "base_uri": "https://localhost:8080/"
        },
        "id": "QQYhMlJd8HJx",
        "outputId": "673c3bd6-66e9-415e-e5ee-72c62925d68f"
      },
      "execution_count": 28,
      "outputs": [
        {
          "output_type": "execute_result",
          "data": {
            "text/plain": [
              "Parda             173733\n",
              "Branca            155595\n",
              "Preta              30120\n",
              "Amarela             1550\n",
              "Indígena            1435\n",
              "Sem declaração        18\n",
              "Name: V0404, dtype: int64"
            ]
          },
          "metadata": {},
          "execution_count": 28
        }
      ]
    },
    {
      "cell_type": "code",
      "source": [],
      "metadata": {
        "id": "bbaMEgLj6N-1"
      },
      "execution_count": null,
      "outputs": []
    },
    {
      "cell_type": "code",
      "source": [],
      "metadata": {
        "id": "N_GbSCUB6URs"
      },
      "execution_count": null,
      "outputs": []
    }
  ]
}